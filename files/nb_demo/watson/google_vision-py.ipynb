{
 "cells": [
  {
   "cell_type": "markdown",
   "metadata": {},
   "source": [
    "# Google API practice\n",
    "\n",
    "- Team: [CognitiveBuild-TW](https://apps.na.collabserv.com/communities/service/html/communitystart?communityUuid=8e4d5ccf-5360-452b-8436-2fc1e649c348)\n",
    "- Author: Jesse Wei\n",
    "- Date: 2016/06/21\n",
    "\n",
    "\n",
    "<style>\n",
    "pre {\n",
    "    background-color: #f5f5f5;\n",
    "}\n",
    ".highlight {\n",
    "    background: #f8f8f8;\n",
    "}\n",
    "</style>\n",
    "\n",
    "## [Google Cloud Vision](https://cloud.google.com/vision/)\n",
    "This is part of AlchemyAPI, other family member include Speech, Language, and Data Insights.\n",
    "\n",
    "### Scope\n",
    "\n",
    "* **Label Detection**: Detect broad sets of categories within an image, ranging from modes of transportation to animals.\n",
    "* **Logo Detection**: Detect popular product logos within an image.\n",
    "* **Landmark Detection**: Detect popular natural and man-made structures within an image.\n",
    "* **Optical Character Recognition**: Detect and extract text within an image, with support for a broad range of languages, along with support for automatic language identification.\n",
    "* **Face Detection**: Detect multiple faces within an image, along with the associated key facial attributes like emotional state or wearing headwear. Facial Recognition is not supported.\n",
    "* **Image Attributes**: Detect general attributes of the image, such as dominant color.\n",
    "* Others..\n",
    "\n",
    "\n",
    "### API Reference:\n",
    "API 相關參考文件\n",
    "\n",
    "* [API Explorer](https://developers.google.com/apis-explorer/#p/vision/v1/), [API doc](https://cloud.google.com/vision/), [API dev Doc](https://developers.google.com/api-client-library/python/apis/vision/v1#managed-installation)\n",
    "* Demo: [Site](http://vision-explorer.reactive.ai), [Blog](https://cloud.google.com/blog/big-data/2016/05/explore-the-galaxy-of-images-with-cloud-vision-api), [Github](https://github.com/reactiveai/cloud-vision-explorer/blob/master/README.md)\n",
    "* [SDK examples](https://github.com/GoogleCloudPlatform/cloud-vision)\n",
    "\n",
    "\n",
    "![DEMO arch](https://cloud.google.com/blog/big-data/2016/05/images/146341419769673/galaxy-vision-api-4.png)\n",
    "\n",
    "### This Notebook Resource: \n",
    "和本篇Notebook 有關的資源\n",
    "\n",
    "* [Community](https://apps.na.collabserv.com/communities/service/html/communitystart?communityUuid=8e4d5ccf-5360-452b-8436-2fc1e649c348)\n",
    "* [Docker](https://hub.docker.com/r/jessewei/jupyter_nodejs/)\n",
    "* Python learn[@Codecaemy](https://www.codecademy.com/learn/python),[@learnpython](http://www.learnpython.org/)\n",
    "* [Python Cheatsheet](http://www.astro.up.pt/~sousasag/Python_For_Astronomers/Python_qr.pdf)\n",
    "* [Markdown](https://help.github.com/articles/basic-writing-and-formatting-syntax/)\n",
    "* [FB Messager bot](http://tsaprailis.com/2016/06/02/How-to-build-and-deploy-a-Facebook-Messenger-bot-with-Python-and-Flask-a-tutorial)"
   ]
  },
  {
   "cell_type": "markdown",
   "metadata": {},
   "source": [
    "** Q&A **\n",
    "- Q: ** GOOGLE_APPLICATION_CREDENTIALS ** how to setup is better?\n",
    "    - ANS: Currently located on host workspace.\n"
   ]
  },
  {
   "cell_type": "markdown",
   "metadata": {},
   "source": [
    "## Exercise purpose and procedure\n",
    "1. Change to your apikey, replace the myAPIkey and myURL to yours\n",
    "2. Follow steps to run and review\n",
    "3. Checkout API doc, write ourown samples\n",
    "4. Review visual output"
   ]
  },
  {
   "cell_type": "code",
   "execution_count": 3,
   "metadata": {
    "collapsed": false
   },
   "outputs": [
    {
     "name": "stdout",
     "output_type": "stream",
     "text": [
      "Found label: person for ../resources/face.jpg\n"
     ]
    }
   ],
   "source": [
    "!export GOOGLE_APPLICATION_CREDENTIALS=/notebooks/workspace/googleCloud/API.json\n",
    "\n",
    "from os.path import join, dirname\n",
    "import os\n",
    "import base64\n",
    "import httplib2\n",
    "\n",
    "from googleapiclient import discovery\n",
    "from oauth2client.client import GoogleCredentials\n",
    "# The url template to retrieve the discovery document for trusted testers.\n",
    "DISCOVERY_URL='https://{api}.googleapis.com/$discovery/rest?version={apiVersion}'\n",
    "# [END import_libraries]\n",
    "\n",
    "os.environ['GOOGLE_APPLICATION_CREDENTIALS']='/notebooks/workspace/API.json'\n",
    "photo_file = '../resources/face.jpg'\n",
    "\n",
    "credentials = GoogleCredentials.get_application_default()\n",
    "service = discovery.build('vision', 'v1', credentials=credentials,\n",
    "                          discoveryServiceUrl=DISCOVERY_URL)\n",
    "\n",
    "with open(join(dirname('__file__'), photo_file ), 'rb') as image:\n",
    "    image_content = base64.b64encode(image.read())\n",
    "    service_request = service.images().annotate(body={\n",
    "        'requests': [{\n",
    "            'image': {\n",
    "                'content': image_content.decode('UTF-8')\n",
    "            },\n",
    "            'features': [{\n",
    "                'type': 'LABEL_DETECTION',\n",
    "                'maxResults': 1\n",
    "            }]\n",
    "        }]\n",
    "    })\n",
    "    # [END construct_request]\n",
    "    # [START parse_response]\n",
    "    response = service_request.execute()\n",
    "    label = response['responses'][0]['labelAnnotations'][0]['description']\n",
    "    print('Found label: %s for %s' % (label, photo_file))\n",
    "\n",
    "    # [END parse_response]"
   ]
  }
 ],
 "metadata": {
  "kernelspec": {
   "display_name": "Python 2",
   "language": "python",
   "name": "python2"
  },
  "language_info": {
   "codemirror_mode": {
    "name": "ipython",
    "version": 2
   },
   "file_extension": ".py",
   "mimetype": "text/x-python",
   "name": "python",
   "nbconvert_exporter": "python",
   "pygments_lexer": "ipython2",
   "version": "2.7.9"
  }
 },
 "nbformat": 4,
 "nbformat_minor": 0
}
